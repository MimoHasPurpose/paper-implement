{
 "cells": [
  {
   "cell_type": "code",
   "execution_count": 1,
   "id": "64238bb8-de14-4396-8339-8061847eabb2",
   "metadata": {},
   "outputs": [],
   "source": [
    "import os, random, csv\n",
    "\n",
    "root = \"../datasets/LINEMOD/cat/JPEGImages\"  # adjust to your images folder\n",
    "image_ids = [f.split(\".\")[0] for f in os.listdir(root) if f.endswith(\".png\")]\n",
    "\n"
   ]
  },
  {
   "cell_type": "code",
   "execution_count": null,
   "id": "3b1c5c29-bddb-437e-adb1-f8bcc9ce244c",
   "metadata": {},
   "outputs": [],
   "source": [
    "random.shuffle(image_ids)\n",
    "split = int(0.8 * len(image_ids))\n",
    "\n",
    "train_ids = image_ids[:split]\n",
    "test_ids = image_ids[split:]\n",
    "\n"
   ]
  },
  {
   "cell_type": "code",
   "execution_count": null,
   "id": "81d37258-668a-469b-9b38-71f9b801b298",
   "metadata": {},
   "outputs": [],
   "source": [
    "with open(\"../datasets/LINEMOD/cat/train_split.csv\", \"w\", newline=\"\") as f:\n",
    "    writer = csv.writer(f)\n",
    "    writer.writerows([[id] for id in train_ids])\n",
    "\n",
    "with open(\"../datasets/LINEMOD/cat/test_split.csv\", \"w\", newline=\"\") as f:\n",
    "    writer = csv.writer(f)\n",
    "    writer.writerows([[id] for id in test_ids])\n"
   ]
  }
 ],
 "metadata": {
  "kernelspec": {
   "display_name": "Python 3 (ipykernel)",
   "language": "python",
   "name": "python3"
  },
  "language_info": {
   "codemirror_mode": {
    "name": "ipython",
    "version": 3
   },
   "file_extension": ".py",
   "mimetype": "text/x-python",
   "name": "python",
   "nbconvert_exporter": "python",
   "pygments_lexer": "ipython3",
   "version": "3.13.5"
  }
 },
 "nbformat": 4,
 "nbformat_minor": 5
}
